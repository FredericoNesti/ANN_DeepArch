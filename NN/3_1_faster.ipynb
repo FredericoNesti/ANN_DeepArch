{
 "cells": [
  {
   "cell_type": "code",
   "execution_count": 2,
   "metadata": {},
   "outputs": [
    {
     "name": "stdout",
     "output_type": "stream",
     "text": [
      "The autoreload extension is already loaded. To reload it, use:\n",
      "  %reload_ext autoreload\n"
     ]
    }
   ],
   "source": [
    "# adding autoload so that we dont need to restart kernel to reload libraries every time\n",
    "%load_ext autoreload\n",
    "%autoreload 2"
   ]
  },
  {
   "cell_type": "code",
   "execution_count": 2,
   "metadata": {},
   "outputs": [],
   "source": [
    "from neural_network import *\n",
    "import numpy as np\n",
    "from matplotlib import pyplot as plt"
   ]
  },
  {
   "cell_type": "code",
   "execution_count": 3,
   "metadata": {},
   "outputs": [],
   "source": [
    "# creating the dataset\n",
    "x = np.arange(0,2*np.pi,0.1)\n",
    "x = np.random.permutation(x)\n",
    "#y = np.sin(2*x)\n",
    "y = (np.sin(2*x)>0)*2-1 #square\n",
    "x_test = np.arange(0.05,2*np.pi,0.1)\n",
    "#y_test = np.sin(2*x_test)\n",
    "y_test = (np.sin(2*x_test)>0)*2-1 #square test"
   ]
  },
  {
   "cell_type": "code",
   "execution_count": 4,
   "metadata": {},
   "outputs": [],
   "source": [
    "#creating the transformation\n",
    "number_of_rbf_nodes = 63\n",
    "#means = np.linspace(0, 2*np.pi,number_of_rbf_nodes+2)[1:-1]\n",
    "means = np.linspace(0, 2*np.pi,number_of_rbf_nodes)\n",
    "#means = np.sort(np.random.rand(number_of_rbf_nodes)*np.max(x))\n",
    "#means = x\n",
    "sigmas = np.ones(number_of_rbf_nodes)*(1.0/(number_of_rbf_nodes*1.2))\n",
    "#sigmas = np.ones(number_of_rbf_nodes)*(1.0/32)\n",
    "rbf = RbfTransformation(means,sigmas)\n",
    "#rbf = StepTransformation(means)\n",
    "new_x = np.zeros((len(x), number_of_rbf_nodes))\n",
    "new_x_test = np.zeros((len(x_test), number_of_rbf_nodes))\n",
    "#transforming the x\n",
    "for i,x_s in enumerate(x):\n",
    "    new_x[i] = rbf(x_s)\n",
    "for i,x_s in enumerate(x_test):\n",
    "    new_x_test[i] = rbf(x_s)"
   ]
  },
  {
   "cell_type": "code",
   "execution_count": 5,
   "metadata": {},
   "outputs": [],
   "source": [
    "# creating the network\n",
    "nn = NN(number_of_rbf_nodes) # the number of inputs\n",
    "#nn.add_transformation(rbf) # adding the transformation we created\n",
    "nn.add_layer(1, function=Linear(), bias_weight=0) #adding a linear layer at the end"
   ]
  },
  {
   "cell_type": "code",
   "execution_count": 6,
   "metadata": {},
   "outputs": [
    {
     "data": {
      "text/plain": [
       "([], [])"
      ]
     },
     "execution_count": 6,
     "metadata": {},
     "output_type": "execute_result"
    }
   ],
   "source": [
    "# training the network\n",
    "nn.train_batch(new_x,y,63,10000,0.8,0)"
   ]
  },
  {
   "cell_type": "code",
   "execution_count": 7,
   "metadata": {},
   "outputs": [
    {
     "name": "stdout",
     "output_type": "stream",
     "text": [
      "0.07377976160199985\n",
      "0.10899798410390699\n"
     ]
    }
   ],
   "source": [
    "#prediction\n",
    "ans = []\n",
    "ab = 0\n",
    "for x_s, y_true in zip(new_x,y):\n",
    "    v = nn.feed_forward(x_s)[1][0]\n",
    "    ans.append(v)\n",
    "#    print(\"v\",v,y_true)\n",
    "    ab+=np.abs((v-y_true))\n",
    "ab = ab/len(x)\n",
    "print(ab)\n",
    "ans = np.array(ans)\n",
    "ab = 0\n",
    "for x_s, y_true in zip(new_x_test,y_test):\n",
    "    v = nn.feed_forward(x_s)[1][0]\n",
    "    ab+=np.abs((v-y_true))\n",
    "ab = ab/len(x_test)\n",
    "print(ab)\n",
    "ans = np.array(ans)"
   ]
  },
  {
   "cell_type": "code",
   "execution_count": 8,
   "metadata": {},
   "outputs": [
    {
     "data": {
      "text/plain": [
       "<matplotlib.legend.Legend at 0x7f147b80f2d0>"
      ]
     },
     "execution_count": 8,
     "metadata": {},
     "output_type": "execute_result"
    },
    {
     "data": {
      "image/png": "[encoded data removed]",
      "text/plain": [
       "<Figure size 432x288 with 1 Axes>"
      ]
     },
     "metadata": {
      "needs_background": "light"
     },
     "output_type": "display_data"
    }
   ],
   "source": [
    "#ploting\n",
    "indexes = np.argsort(x)\n",
    "plt.plot(x[indexes],y[indexes], label=\"True\")\n",
    "plt.plot(x[indexes],ans[indexes], label=\"Prediction\")\n",
    "plt.legend()"
   ]
  },
  {
   "cell_type": "code",
   "execution_count": null,
   "metadata": {},
   "outputs": [],
   "source": []
  },
  {
   "cell_type": "code",
   "execution_count": 1044,
   "metadata": {
    "scrolled": true
   },
   "outputs": [
    {
     "name": "stdout",
     "output_type": "stream",
     "text": [
      "63 [0.006804554930936141, 0.00687749709399338]\n"
     ]
    }
   ],
   "source": [
    "#try with a range of rbf nodes\n",
    "training_test_res = []\n",
    "for nd in range(63,64):\n",
    "    number_of_rbf_nodes = nd\n",
    "    means = np.linspace(0, 2*np.pi,number_of_rbf_nodes)\n",
    "    means = np.random.rand(nd)*2*np.pi\n",
    "    sigmas = np.ones(number_of_rbf_nodes)*(1.0/(number_of_rbf_nodes*1.2))\n",
    "    rbf = RbfTransformation(means,sigmas)\n",
    "    rbf.train_mu(x,0.2,500,winners=1)\n",
    "    new_x = np.zeros((len(x), number_of_rbf_nodes))\n",
    "    new_x_test = np.zeros((len(x_test), number_of_rbf_nodes))\n",
    "    for i,x_s in enumerate(x):\n",
    "        new_x[i] = rbf(x_s)\n",
    "    for i,x_s in enumerate(x_test):\n",
    "        new_x_test[i] = rbf(x_s)\n",
    "    nn = NN(number_of_rbf_nodes) # the number of inputs\n",
    "    nn.add_layer(1, function=Linear(), bias_weight=0) #adding a linear layer at the end\n",
    "    nn.train_batch(new_x,y,1,10000,0.01,0)\n",
    "    ans = []\n",
    "    ab = 0\n",
    "    for x_s, y_true in zip(new_x,y):\n",
    "        v = nn.feed_forward(x_s)[1][0]\n",
    "        ab+=np.abs((v-y_true))\n",
    "    ab = ab/len(x)\n",
    "    ans.append(ab)\n",
    "    ab = 0\n",
    "    for x_s, y_true in zip(new_x_test,y_test):\n",
    "        v = nn.feed_forward(x_s)[1][0]\n",
    "        ab+=np.abs((v-y_true))\n",
    "    ab = ab/len(x_test)\n",
    "    ans.append(ab)\n",
    "    training_test_res.append([nd,ans[0],ans[1]])\n",
    "    print(nd,ans)\n",
    "    "
   ]
  },
  {
   "cell_type": "code",
   "execution_count": null,
   "metadata": {},
   "outputs": [],
   "source": []
  },
  {
   "cell_type": "code",
   "execution_count": null,
   "metadata": {},
   "outputs": [],
   "source": []
  },
  {
   "cell_type": "code",
   "execution_count": null,
   "metadata": {},
   "outputs": [],
   "source": []
  },
  {
   "cell_type": "code",
   "execution_count": null,
   "metadata": {},
   "outputs": [],
   "source": []
  },
  {
   "cell_type": "code",
   "execution_count": null,
   "metadata": {},
   "outputs": [],
   "source": []
  },
  {
   "cell_type": "code",
   "execution_count": null,
   "metadata": {},
   "outputs": [],
   "source": []
  },
  {
   "cell_type": "code",
   "execution_count": null,
   "metadata": {
    "scrolled": true
   },
   "outputs": [],
   "source": []
  },
  {
   "cell_type": "code",
   "execution_count": null,
   "metadata": {},
   "outputs": [],
   "source": []
  },
  {
   "cell_type": "code",
   "execution_count": null,
   "metadata": {},
   "outputs": [],
   "source": []
  },
  {
   "cell_type": "code",
   "execution_count": null,
   "metadata": {},
   "outputs": [],
   "source": []
  },
  {
   "cell_type": "code",
   "execution_count": null,
   "metadata": {},
   "outputs": [],
   "source": []
  },
  {
   "cell_type": "code",
   "execution_count": null,
   "metadata": {},
   "outputs": [],
   "source": []
  },
  {
   "cell_type": "code",
   "execution_count": 738,
   "metadata": {},
   "outputs": [],
   "source": []
  },
  {
   "cell_type": "code",
   "execution_count": 985,
   "metadata": {},
   "outputs": [
    {
     "data": {
      "image/png": "[encoded data removed]",
      "text/plain": [
       "<Figure size 432x288 with 1 Axes>"
      ]
     },
     "metadata": {
      "needs_background": "light"
     },
     "output_type": "display_data"
    }
   ],
   "source": [
    "plt.plot(results[:,0],np.log(results[:,1]), label='training error')\n",
    "plt.plot(results[:,0],np.log(results[:,2]), label='test error')\n",
    "plt.legend()\n",
    "plt.xlabel('Number of nodes')\n",
    "plt.ylabel('log(error)')\n",
    "#plt.savefig('Lab_2_data/3_1_sin_error.png')"
   ]
  },
  {
   "cell_type": "code",
   "execution_count": null,
   "metadata": {},
   "outputs": [],
   "source": []
  },
  {
   "cell_type": "code",
   "execution_count": null,
   "metadata": {},
   "outputs": [],
   "source": []
  },
  {
   "cell_type": "code",
   "execution_count": null,
   "metadata": {},
   "outputs": [],
   "source": []
  },
  {
   "cell_type": "code",
   "execution_count": null,
   "metadata": {},
   "outputs": [],
   "source": []
  },
  {
   "cell_type": "code",
   "execution_count": null,
   "metadata": {},
   "outputs": [],
   "source": []
  },
  {
   "cell_type": "code",
   "execution_count": null,
   "metadata": {},
   "outputs": [],
   "source": []
  },
  {
   "cell_type": "code",
   "execution_count": 9,
   "metadata": {},
   "outputs": [
    {
     "data": {
      "text/plain": [
       "(array([7., 6., 6., 6., 6., 7., 6., 6., 6., 7.]),\n",
       " array([0.        , 0.62831853, 1.25663706, 1.88495559, 2.51327412,\n",
       "        3.14159265, 3.76991118, 4.39822972, 5.02654825, 5.65486678,\n",
       "        6.28318531]),\n",
       " <a list of 10 Patch objects>)"
      ]
     },
     "execution_count": 9,
     "metadata": {},
     "output_type": "execute_result"
    },
    {
     "data": {
      "image/png": "[encoded data removed]",
      "text/plain": [
       "<Figure size 432x288 with 1 Axes>"
      ]
     },
     "metadata": {
      "needs_background": "light"
     },
     "output_type": "display_data"
    }
   ],
   "source": [
    "plt.hist(np.sort(rbf.means))"
   ]
  },
  {
   "cell_type": "code",
   "execution_count": 10,
   "metadata": {},
   "outputs": [
    {
     "data": {
      "text/plain": [
       "(array([7., 6., 6., 6., 6., 7., 6., 6., 6., 7.]),\n",
       " array([0.        , 0.62831853, 1.25663706, 1.88495559, 2.51327412,\n",
       "        3.14159265, 3.76991118, 4.39822972, 5.02654825, 5.65486678,\n",
       "        6.28318531]),\n",
       " <a list of 10 Patch objects>)"
      ]
     },
     "execution_count": 10,
     "metadata": {},
     "output_type": "execute_result"
    },
    {
     "data": {
      "image/png": "[encoded data removed]",
      "text/plain": [
       "<Figure size 432x288 with 1 Axes>"
      ]
     },
     "metadata": {
      "needs_background": "light"
     },
     "output_type": "display_data"
    }
   ],
   "source": [
    "plt.hist(np.sort(rbf.means))"
   ]
  },
  {
   "cell_type": "code",
   "execution_count": null,
   "metadata": {},
   "outputs": [],
   "source": []
  },
  {
   "cell_type": "code",
   "execution_count": null,
   "metadata": {},
   "outputs": [],
   "source": []
  },
  {
   "cell_type": "code",
   "execution_count": null,
   "metadata": {},
   "outputs": [],
   "source": []
  }
 ],
 "metadata": {
  "kernelspec": {
   "display_name": "Python 3.7.4 64-bit ('base': conda)",
   "language": "python",
   "name": "python37464bitbaseconda5f9c779bbc32492f894791687feb7013"
  },
  "language_info": {
   "codemirror_mode": {
    "name": "ipython",
    "version": 3
   },
   "file_extension": ".py",
   "mimetype": "text/x-python",
   "name": "python",
   "nbconvert_exporter": "python",
   "pygments_lexer": "ipython3",
   "version": "3.7.4"
  }
 },
 "nbformat": 4,
 "nbformat_minor": 2
}

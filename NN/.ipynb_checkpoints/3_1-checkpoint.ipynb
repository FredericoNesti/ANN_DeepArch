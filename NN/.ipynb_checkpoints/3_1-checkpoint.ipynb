{
 "cells": [
  {
   "cell_type": "code",
   "execution_count": 1,
   "metadata": {},
   "outputs": [],
   "source": [
    "from neural_network import *\n",
    "import numpy as np"
   ]
  },
  {
   "cell_type": "code",
   "execution_count": 2,
   "metadata": {},
   "outputs": [],
   "source": [
    "# creating the dataset\n",
    "x = np.arange(0,2*np.pi,0.1)\n",
    "x = np.random.permutation(x)\n",
    "y = np.sin(2*x)"
   ]
  },
  {
   "cell_type": "code",
   "execution_count": 3,
   "metadata": {},
   "outputs": [],
   "source": [
    "#creating the transformation\n",
    "number_of_rbf_nodes = 4\n",
    "means = np.linspace(0, 2*np.pi,number_of_rbf_nodes)\n",
    "sigmas = np.ones(number_of_rbf_nodes)\n",
    "rbf = RbfTransformation(means,sigmas)"
   ]
  },
  {
   "cell_type": "code",
   "execution_count": 25,
   "metadata": {},
   "outputs": [],
   "source": []
  },
  {
   "cell_type": "code",
   "execution_count": 31,
   "metadata": {},
   "outputs": [],
   "source": [
    "number_of_rbf_nodes = 4\n",
    "means = np.linspace(0, 2*np.pi,number_of_rbf_nodes)\n",
    "sigmas = np.ones(number_of_rbf_nodes)\n",
    "rbf = RbfTransformation(means,sigmas)"
   ]
  },
  {
   "cell_type": "code",
   "execution_count": 22,
   "metadata": {},
   "outputs": [
    {
     "data": {
      "text/plain": [
       "array([[ 0.        ,  0.        ],\n",
       "       [ 0.1       ,  0.19866933],\n",
       "       [ 0.2       ,  0.38941834],\n",
       "       [ 0.3       ,  0.56464247],\n",
       "       [ 0.4       ,  0.71735609],\n",
       "       [ 0.5       ,  0.84147098],\n",
       "       [ 0.6       ,  0.93203909],\n",
       "       [ 0.7       ,  0.98544973],\n",
       "       [ 0.8       ,  0.9995736 ],\n",
       "       [ 0.9       ,  0.97384763],\n",
       "       [ 1.        ,  0.90929743],\n",
       "       [ 1.1       ,  0.8084964 ],\n",
       "       [ 1.2       ,  0.67546318],\n",
       "       [ 1.3       ,  0.51550137],\n",
       "       [ 1.4       ,  0.33498815],\n",
       "       [ 1.5       ,  0.14112001],\n",
       "       [ 1.6       , -0.05837414],\n",
       "       [ 1.7       , -0.2555411 ],\n",
       "       [ 1.8       , -0.44252044],\n",
       "       [ 1.9       , -0.61185789],\n",
       "       [ 2.        , -0.7568025 ],\n",
       "       [ 2.1       , -0.87157577],\n",
       "       [ 2.2       , -0.95160207],\n",
       "       [ 2.3       , -0.993691  ],\n",
       "       [ 2.4       , -0.99616461],\n",
       "       [ 2.5       , -0.95892427],\n",
       "       [ 2.6       , -0.88345466],\n",
       "       [ 2.7       , -0.77276449],\n",
       "       [ 2.8       , -0.63126664],\n",
       "       [ 2.9       , -0.46460218],\n",
       "       [ 3.        , -0.2794155 ],\n",
       "       [ 3.1       , -0.0830894 ],\n",
       "       [ 3.2       ,  0.1165492 ],\n",
       "       [ 3.3       ,  0.31154136],\n",
       "       [ 3.4       ,  0.49411335],\n",
       "       [ 3.5       ,  0.6569866 ],\n",
       "       [ 3.6       ,  0.79366786],\n",
       "       [ 3.7       ,  0.8987081 ],\n",
       "       [ 3.8       ,  0.96791967],\n",
       "       [ 3.9       ,  0.99854335],\n",
       "       [ 4.        ,  0.98935825],\n",
       "       [ 4.1       ,  0.94073056],\n",
       "       [ 4.2       ,  0.85459891],\n",
       "       [ 4.3       ,  0.7343971 ],\n",
       "       [ 4.4       ,  0.58491719],\n",
       "       [ 4.5       ,  0.41211849],\n",
       "       [ 4.6       ,  0.22288991],\n",
       "       [ 4.7       ,  0.02477543],\n",
       "       [ 4.8       , -0.17432678],\n",
       "       [ 4.9       , -0.36647913],\n",
       "       [ 5.        , -0.54402111],\n",
       "       [ 5.1       , -0.69987469],\n",
       "       [ 5.2       , -0.82782647],\n",
       "       [ 5.3       , -0.92277542],\n",
       "       [ 5.4       , -0.98093623],\n",
       "       [ 5.5       , -0.99999021],\n",
       "       [ 5.6       , -0.97917773],\n",
       "       [ 5.7       , -0.91932853],\n",
       "       [ 5.8       , -0.82282859],\n",
       "       [ 5.9       , -0.69352508],\n",
       "       [ 6.        , -0.53657292],\n",
       "       [ 6.1       , -0.35822928],\n",
       "       [ 6.2       , -0.16560418]])"
      ]
     },
     "execution_count": 22,
     "metadata": {},
     "output_type": "execute_result"
    }
   ],
   "source": [
    "z"
   ]
  },
  {
   "cell_type": "code",
   "execution_count": null,
   "metadata": {},
   "outputs": [],
   "source": []
  }
 ],
 "metadata": {
  "kernelspec": {
   "display_name": "Python 3.7.4 64-bit ('base': conda)",
   "language": "python",
   "name": "python37464bitbaseconda5f9c779bbc32492f894791687feb7013"
  },
  "language_info": {
   "codemirror_mode": {
    "name": "ipython",
    "version": 3
   },
   "file_extension": ".py",
   "mimetype": "text/x-python",
   "name": "python",
   "nbconvert_exporter": "python",
   "pygments_lexer": "ipython3",
   "version": "3.7.4"
  }
 },
 "nbformat": 4,
 "nbformat_minor": 2
}

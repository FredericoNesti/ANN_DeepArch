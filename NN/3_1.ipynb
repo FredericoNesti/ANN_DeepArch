{
 "cells": [
  {
   "cell_type": "code",
   "execution_count": 2,
   "metadata": {},
   "outputs": [
    {
     "name": "stdout",
     "output_type": "stream",
     "text": [
      "The autoreload extension is already loaded. To reload it, use:\n",
      "  %reload_ext autoreload\n"
     ]
    }
   ],
   "source": [
    "# adding autoload so that we dont need to restart kernel to reload libraries every time\n",
    "%load_ext autoreload\n",
    "%autoreload 2"
   ]
  },
  {
   "cell_type": "code",
   "execution_count": 834,
   "metadata": {},
   "outputs": [],
   "source": [
    "from neural_network import *\n",
    "import numpy as np\n",
    "from matplotlib import pyplot as plt"
   ]
  },
  {
   "cell_type": "code",
   "execution_count": 991,
   "metadata": {},
   "outputs": [],
   "source": [
    "# creating the dataset\n",
    "x = np.arange(0,2*np.pi,0.1)\n",
    "x = np.random.permutation(x)\n",
    "y = np.sin(2*x)\n",
    "#y = (np.sin(2*x)>0)*2-1 #square\n",
    "x_test = np.arange(0.05,2*np.pi,0.1)\n",
    "y_test = np.sin(2*x_test)\n",
    "#y_test = (np.sin(2*x_test)>0)*2-1"
   ]
  },
  {
   "cell_type": "code",
   "execution_count": 940,
   "metadata": {},
   "outputs": [],
   "source": [
    "#creating the transformation\n",
    "number_of_rbf_nodes = 63\n",
    "#means = np.linspace(0, 2*np.pi,number_of_rbf_nodes+2)[1:-1]\n",
    "means = np.linspace(0, 2*np.pi,number_of_rbf_nodes)\n",
    "#means = np.sort(np.random.rand(number_of_rbf_nodes)*np.max(x))\n",
    "#means = x\n",
    "sigmas = np.ones(number_of_rbf_nodes)*(1.0/(number_of_rbf_nodes*1.2))\n",
    "#sigmas = np.ones(number_of_rbf_nodes)*(1.0/32)\n",
    "rbf = RbfTransformation(means,sigmas)\n",
    "#rbf = StepTransformation(means)\n",
    "new_x = np.zeros((len(x), number_of_rbf_nodes))\n",
    "new_x_test = np.zeros((len(x_test), number_of_rbf_nodes))\n",
    "for i,x_s in enumerate(x):\n",
    "    new_x[i] = rbf(x_s)\n",
    "for i,x_s in enumerate(x_test):\n",
    "    new_x_test[i] = rbf(x_s)"
   ]
  },
  {
   "cell_type": "code",
   "execution_count": 941,
   "metadata": {},
   "outputs": [],
   "source": [
    "# creating the network\n",
    "nn = NN(number_of_rbf_nodes) # the number of inputs\n",
    "#nn.add_transformation(rbf) # adding the transformation we created\n",
    "nn.add_layer(1, function=Linear(), bias_weight=0) #adding a linear layer at the end"
   ]
  },
  {
   "cell_type": "code",
   "execution_count": 942,
   "metadata": {},
   "outputs": [
    {
     "data": {
      "text/plain": [
       "([], [])"
      ]
     },
     "execution_count": 942,
     "metadata": {},
     "output_type": "execute_result"
    }
   ],
   "source": [
    "# training the network\n",
    "nn.train_batch(new_x,y,63,10000,0.8,0)"
   ]
  },
  {
   "cell_type": "code",
   "execution_count": 921,
   "metadata": {},
   "outputs": [
    {
     "ename": "ValueError",
     "evalue": "matmul: Input operand 1 does not have enough dimensions (has 0, gufunc core with signature (n?,k),(k,m?)->(n?,m?) requires 1)",
     "output_type": "error",
     "traceback": [
      "\u001b[0;31m---------------------------------------------------------------------------\u001b[0m",
      "\u001b[0;31mValueError\u001b[0m                                Traceback (most recent call last)",
      "\u001b[0;32m<ipython-input-921-25560d4d1327>\u001b[0m in \u001b[0;36m<module>\u001b[0;34m\u001b[0m\n\u001b[1;32m      3\u001b[0m \u001b[0mab\u001b[0m \u001b[0;34m=\u001b[0m \u001b[0;36m0\u001b[0m\u001b[0;34m\u001b[0m\u001b[0;34m\u001b[0m\u001b[0m\n\u001b[1;32m      4\u001b[0m \u001b[0;32mfor\u001b[0m \u001b[0mx_s\u001b[0m\u001b[0;34m,\u001b[0m \u001b[0my_true\u001b[0m \u001b[0;32min\u001b[0m \u001b[0mzip\u001b[0m\u001b[0;34m(\u001b[0m\u001b[0mx\u001b[0m\u001b[0;34m,\u001b[0m\u001b[0my\u001b[0m\u001b[0;34m)\u001b[0m\u001b[0;34m:\u001b[0m\u001b[0;34m\u001b[0m\u001b[0;34m\u001b[0m\u001b[0m\n\u001b[0;32m----> 5\u001b[0;31m     \u001b[0mv\u001b[0m \u001b[0;34m=\u001b[0m \u001b[0mnn\u001b[0m\u001b[0;34m.\u001b[0m\u001b[0mfeed_forward\u001b[0m\u001b[0;34m(\u001b[0m\u001b[0mx_s\u001b[0m\u001b[0;34m)\u001b[0m\u001b[0;34m[\u001b[0m\u001b[0;36m1\u001b[0m\u001b[0;34m]\u001b[0m\u001b[0;34m[\u001b[0m\u001b[0;36m0\u001b[0m\u001b[0;34m]\u001b[0m\u001b[0;34m\u001b[0m\u001b[0;34m\u001b[0m\u001b[0m\n\u001b[0m\u001b[1;32m      6\u001b[0m     \u001b[0mans\u001b[0m\u001b[0;34m.\u001b[0m\u001b[0mappend\u001b[0m\u001b[0;34m(\u001b[0m\u001b[0mv\u001b[0m\u001b[0;34m)\u001b[0m\u001b[0;34m\u001b[0m\u001b[0;34m\u001b[0m\u001b[0m\n\u001b[1;32m      7\u001b[0m \u001b[0;31m#    print(\"v\",v,y_true)\u001b[0m\u001b[0;34m\u001b[0m\u001b[0;34m\u001b[0m\u001b[0;34m\u001b[0m\u001b[0m\n",
      "\u001b[0;32m~/ANN_DeepArch/NN/neural_network.py\u001b[0m in \u001b[0;36mfeed_forward\u001b[0;34m(self, inp)\u001b[0m\n\u001b[1;32m    120\u001b[0m         \u001b[0msignal_list\u001b[0m \u001b[0;34m=\u001b[0m \u001b[0;34m[\u001b[0m\u001b[0mtmp\u001b[0m\u001b[0;34m]\u001b[0m\u001b[0;34m\u001b[0m\u001b[0;34m\u001b[0m\u001b[0m\n\u001b[1;32m    121\u001b[0m         \u001b[0;32mfor\u001b[0m \u001b[0mlayer\u001b[0m \u001b[0;32min\u001b[0m \u001b[0mself\u001b[0m\u001b[0;34m.\u001b[0m\u001b[0mlayers\u001b[0m\u001b[0;34m:\u001b[0m\u001b[0;34m\u001b[0m\u001b[0;34m\u001b[0m\u001b[0m\n\u001b[0;32m--> 122\u001b[0;31m             \u001b[0msignal\u001b[0m\u001b[0;34m,\u001b[0m \u001b[0mtmp\u001b[0m \u001b[0;34m=\u001b[0m \u001b[0mlayer\u001b[0m\u001b[0;34m.\u001b[0m\u001b[0mfeed\u001b[0m\u001b[0;34m(\u001b[0m\u001b[0mtmp\u001b[0m\u001b[0;34m)\u001b[0m\u001b[0;34m\u001b[0m\u001b[0;34m\u001b[0m\u001b[0m\n\u001b[0m\u001b[1;32m    123\u001b[0m             \u001b[0msignal_list\u001b[0m\u001b[0;34m.\u001b[0m\u001b[0mappend\u001b[0m\u001b[0;34m(\u001b[0m\u001b[0msignal\u001b[0m\u001b[0;34m)\u001b[0m\u001b[0;34m\u001b[0m\u001b[0;34m\u001b[0m\u001b[0m\n\u001b[1;32m    124\u001b[0m         \u001b[0;32mreturn\u001b[0m \u001b[0msignal_list\u001b[0m\u001b[0;34m,\u001b[0m \u001b[0mtmp\u001b[0m\u001b[0;34m\u001b[0m\u001b[0;34m\u001b[0m\u001b[0m\n",
      "\u001b[0;32m~/ANN_DeepArch/NN/neural_network.py\u001b[0m in \u001b[0;36mfeed\u001b[0;34m(self, inp)\u001b[0m\n\u001b[1;32m     93\u001b[0m \u001b[0;34m\u001b[0m\u001b[0m\n\u001b[1;32m     94\u001b[0m     \u001b[0;32mdef\u001b[0m \u001b[0mfeed\u001b[0m\u001b[0;34m(\u001b[0m\u001b[0mself\u001b[0m\u001b[0;34m,\u001b[0m \u001b[0minp\u001b[0m\u001b[0;34m)\u001b[0m\u001b[0;34m:\u001b[0m\u001b[0;34m\u001b[0m\u001b[0;34m\u001b[0m\u001b[0m\n\u001b[0;32m---> 95\u001b[0;31m         \u001b[0mself\u001b[0m\u001b[0;34m.\u001b[0m\u001b[0mlast_signal\u001b[0m \u001b[0;34m=\u001b[0m \u001b[0;34m(\u001b[0m\u001b[0mself\u001b[0m\u001b[0;34m.\u001b[0m\u001b[0mW\u001b[0m \u001b[0;34m@\u001b[0m \u001b[0minp\u001b[0m\u001b[0;34m)\u001b[0m \u001b[0;34m+\u001b[0m \u001b[0mself\u001b[0m\u001b[0;34m.\u001b[0m\u001b[0mbias_weight\u001b[0m\u001b[0;34m*\u001b[0m\u001b[0mself\u001b[0m\u001b[0;34m.\u001b[0m\u001b[0mbias\u001b[0m\u001b[0;34m\u001b[0m\u001b[0;34m\u001b[0m\u001b[0m\n\u001b[0m\u001b[1;32m     96\u001b[0m         \u001b[0;32mreturn\u001b[0m \u001b[0mself\u001b[0m\u001b[0;34m.\u001b[0m\u001b[0mlast_signal\u001b[0m\u001b[0;34m,\u001b[0m \u001b[0mself\u001b[0m\u001b[0;34m.\u001b[0m\u001b[0mfunc\u001b[0m\u001b[0;34m(\u001b[0m\u001b[0mself\u001b[0m\u001b[0;34m.\u001b[0m\u001b[0mlast_signal\u001b[0m\u001b[0;34m)\u001b[0m\u001b[0;34m\u001b[0m\u001b[0;34m\u001b[0m\u001b[0m\n\u001b[1;32m     97\u001b[0m \u001b[0;34m\u001b[0m\u001b[0m\n",
      "\u001b[0;31mValueError\u001b[0m: matmul: Input operand 1 does not have enough dimensions (has 0, gufunc core with signature (n?,k),(k,m?)->(n?,m?) requires 1)"
     ]
    }
   ],
   "source": [
    "#prediction\n",
    "ans = []\n",
    "ab = 0\n",
    "for x_s, y_true in zip(x,y):\n",
    "    v = nn.feed_forward(x_s)[1][0]\n",
    "    ans.append(v)\n",
    "#    print(\"v\",v,y_true)\n",
    "    ab+=np.abs((v-y_true))\n",
    "ab = ab/len(x)\n",
    "print(ab)\n",
    "ans = np.array(ans)\n",
    "ab = 0\n",
    "for x_s, y_true in zip(x_test,y_test):\n",
    "    v = nn.feed_forward(x_s)[1][0]\n",
    "    ab+=np.abs((v-y_true))\n",
    "ab = ab/len(x_test)\n",
    "print(ab)\n",
    "ans = np.array(ans)"
   ]
  },
  {
   "cell_type": "code",
   "execution_count": 1042,
   "metadata": {},
   "outputs": [
    {
     "name": "stdout",
     "output_type": "stream",
     "text": [
      "0.00043981374137214537\n",
      "0.0008810168450986952\n"
     ]
    }
   ],
   "source": [
    "#prediction\n",
    "ans = []\n",
    "ab = 0\n",
    "for x_s, y_true in zip(new_x,y):\n",
    "    v = nn.feed_forward(x_s)[1][0]\n",
    "    ans.append(v)\n",
    "#    print(\"v\",v,y_true)\n",
    "    ab+=np.abs((v-y_true))\n",
    "ab = ab/len(x)\n",
    "print(ab)\n",
    "ans = np.array(ans)\n",
    "ab = 0\n",
    "for x_s, y_true in zip(new_x_test,y_test):\n",
    "    v = nn.feed_forward(x_s)[1][0]\n",
    "    ab+=np.abs((v-y_true))\n",
    "ab = ab/len(x_test)\n",
    "print(ab)\n",
    "ans = np.array(ans)"
   ]
  },
  {
   "cell_type": "code",
   "execution_count": 1043,
   "metadata": {},
   "outputs": [
    {
     "data": {
      "text/plain": [
       "<matplotlib.legend.Legend at 0x7fc525825490>"
      ]
     },
     "execution_count": 1043,
     "metadata": {},
     "output_type": "execute_result"
    },
    {
     "data": {
      "image/png": "[encoded data removed]",
      "text/plain": [
       "<Figure size 432x288 with 1 Axes>"
      ]
     },
     "metadata": {
      "needs_background": "light"
     },
     "output_type": "display_data"
    }
   ],
   "source": [
    "#ploting\n",
    "indexes = np.argsort(x)\n",
    "plt.plot(x[indexes],y[indexes], label=\"True\")\n",
    "plt.plot(x[indexes],ans[indexes], label=\"Prediction\")\n",
    "plt.legend()"
   ]
  },
  {
   "cell_type": "code",
   "execution_count": 1044,
   "metadata": {
    "scrolled": true
   },
   "outputs": [
    {
     "name": "stdout",
     "output_type": "stream",
     "text": [
      "63 [0.006804554930936141, 0.00687749709399338]\n"
     ]
    }
   ],
   "source": [
    "training_test_res = []\n",
    "for nd in range(63,64):\n",
    "    number_of_rbf_nodes = nd\n",
    "    means = np.linspace(0, 2*np.pi,number_of_rbf_nodes)\n",
    "    means = np.random.rand(nd)*2*np.pi\n",
    "    sigmas = np.ones(number_of_rbf_nodes)*(1.0/(number_of_rbf_nodes*1.2))\n",
    "    rbf = RbfTransformation(means,sigmas)\n",
    "    rbf.train_mu(x,0.2,500,winners=1)\n",
    "    new_x = np.zeros((len(x), number_of_rbf_nodes))\n",
    "    new_x_test = np.zeros((len(x_test), number_of_rbf_nodes))\n",
    "    for i,x_s in enumerate(x):\n",
    "        new_x[i] = rbf(x_s)\n",
    "    for i,x_s in enumerate(x_test):\n",
    "        new_x_test[i] = rbf(x_s)\n",
    "    nn = NN(number_of_rbf_nodes) # the number of inputs\n",
    "    nn.add_layer(1, function=Linear(), bias_weight=0) #adding a linear layer at the end\n",
    "    nn.train_batch(new_x,y,1,10000,0.01,0)\n",
    "    ans = []\n",
    "    ab = 0\n",
    "    for x_s, y_true in zip(new_x,y):\n",
    "        v = nn.feed_forward(x_s)[1][0]\n",
    "        ab+=np.abs((v-y_true))\n",
    "    ab = ab/len(x)\n",
    "    ans.append(ab)\n",
    "    ab = 0\n",
    "    for x_s, y_true in zip(new_x_test,y_test):\n",
    "        v = nn.feed_forward(x_s)[1][0]\n",
    "        ab+=np.abs((v-y_true))\n",
    "    ab = ab/len(x_test)\n",
    "    ans.append(ab)\n",
    "    training_test_res.append([nd,ans[0],ans[1]])\n",
    "    print(nd,ans)\n",
    "    "
   ]
  },
  {
   "cell_type": "code",
   "execution_count": 1017,
   "metadata": {},
   "outputs": [
    {
     "data": {
      "text/plain": [
       "array([[5.79787665e-051, 5.48469739e-164, 5.45812639e-060, ...,\n",
       "        9.03644493e-009, 1.43749655e-087, 6.68952313e-040],\n",
       "       [5.94688025e-116, 4.24737171e-084, 1.97679530e-129, ...,\n",
       "        9.42305173e-043, 6.66792068e-033, 7.60501751e-099],\n",
       "       [3.27017578e-099, 1.49039971e-099, 1.06071724e-111, ...,\n",
       "        6.66792068e-033, 9.42305173e-043, 1.89722494e-083],\n",
       "       ...,\n",
       "       [6.93447738e-185, 2.38612270e-040, 7.94218785e-202, ...,\n",
       "        1.43749655e-087, 9.03644493e-009, 4.45909064e-163],\n",
       "       [1.55185994e-207, 8.36817926e-031, 1.82147375e-225, ...,\n",
       "        2.49993462e-103, 7.86895653e-005, 2.19962366e-184],\n",
       "       [8.92504786e-257, 1.18191934e-015, 1.10019305e-276, ...,\n",
       "        8.68265994e-139, 6.85230501e-001, 6.14657251e-231]])"
      ]
     },
     "execution_count": 1017,
     "metadata": {},
     "output_type": "execute_result"
    }
   ],
   "source": [
    "new_x # 0.00058, ci 0.0008"
   ]
  },
  {
   "cell_type": "code",
   "execution_count": 1015,
   "metadata": {},
   "outputs": [],
   "source": [
    "rbf.sigmas = np.ones(number_of_rbf_nodes)*(1.0/(number_of_rbf_nodes*1.2))"
   ]
  },
  {
   "cell_type": "code",
   "execution_count": 1027,
   "metadata": {},
   "outputs": [
    {
     "data": {
      "text/plain": [
       "array([4.10000000e+00, 1.49603489e-01, 9.00000000e-01, 5.35288659e+00,\n",
       "       5.00000000e+00, 3.24666526e+00, 1.86863190e+00, 2.55920317e+00,\n",
       "       4.65902590e+00, 5.26735439e+00, 6.14934307e+00, 2.10000000e+00,\n",
       "       5.00000000e-01, 4.00000000e+00, 3.03632468e+00, 1.64516583e-53,\n",
       "       3.43884429e+00, 5.50000000e+00, 6.60598042e-01, 4.00000000e-01,\n",
       "       2.20000000e+00, 4.50000000e+00, 4.80000000e+00, 1.40000000e+00,\n",
       "       2.15866609e+00, 4.90000000e+00, 2.85038228e+00, 5.74784904e+00,\n",
       "       5.05858176e+00, 1.24135421e+00, 1.60000000e+00, 4.60000000e+00,\n",
       "       3.00000000e-01, 5.92403709e+00, 2.70000000e+00, 5.60000000e+00,\n",
       "       2.02476292e+00, 2.06293565e+00, 8.76035042e-01, 5.18198601e+00,\n",
       "       4.20000000e+00, 3.61692757e+00, 2.60000000e+00, 2.40000000e+00,\n",
       "       2.50000000e+00, 2.37426439e+00, 2.00000000e+00, 5.30000000e+00,\n",
       "       4.33332466e+00, 5.10000000e+00, 5.40000000e+00, 2.63548403e+00,\n",
       "       1.03122984e+00, 2.12447720e+00, 4.70000000e+00, 1.50000000e+00,\n",
       "       5.20000000e+00, 2.56123269e+00, 2.30000000e+00, 3.88134626e+00,\n",
       "       1.70000000e+00, 1.53804554e+00, 8.00000000e-01])"
      ]
     },
     "execution_count": 1027,
     "metadata": {},
     "output_type": "execute_result"
    }
   ],
   "source": [
    "rbf.means"
   ]
  },
  {
   "cell_type": "code",
   "execution_count": 966,
   "metadata": {},
   "outputs": [],
   "source": [
    "training_test_res = np.array(training_test_res)\n",
    "np.save('results_cl',training_test_res)"
   ]
  },
  {
   "cell_type": "code",
   "execution_count": 1012,
   "metadata": {},
   "outputs": [
    {
     "data": {
      "text/plain": [
       "array([[nan, nan, nan, nan, nan, nan, nan, nan, nan, nan, nan, nan, nan,\n",
       "        nan, nan, nan, nan, nan, nan, nan, nan, nan, nan, nan, nan, nan,\n",
       "        nan, nan, nan, nan, nan, nan, nan, nan, nan, nan, nan, nan, nan,\n",
       "        nan, nan, nan, nan, nan, nan, nan, nan, nan, nan, nan, nan, nan,\n",
       "        nan, nan, nan, nan, nan, nan, nan, nan, nan, nan, nan]])"
      ]
     },
     "execution_count": 1012,
     "metadata": {},
     "output_type": "execute_result"
    }
   ],
   "source": [
    "nn.layers[0].W"
   ]
  },
  {
   "cell_type": "code",
   "execution_count": 980,
   "metadata": {},
   "outputs": [],
   "source": [
    "results = np.load('Lab_2_data/results_3_1.npy')"
   ]
  },
  {
   "cell_type": "code",
   "execution_count": 982,
   "metadata": {
    "scrolled": true
   },
   "outputs": [
    {
     "data": {
      "text/plain": [
       "array([[4.00000000e+00, 4.27233335e-01, 4.27731142e-01],\n",
       "       [5.00000000e+00, 5.90356756e-01, 5.90809214e-01],\n",
       "       [6.00000000e+00, 2.99323336e-01, 2.99976458e-01],\n",
       "       [7.00000000e+00, 2.35152199e-01, 2.34393678e-01],\n",
       "       [8.00000000e+00, 1.77795331e-01, 1.77713355e-01],\n",
       "       [9.00000000e+00, 1.29032276e-01, 1.29525081e-01],\n",
       "       [1.00000000e+01, 9.09721588e-02, 9.01353373e-02],\n",
       "       [1.10000000e+01, 6.29385568e-02, 6.27043989e-02],\n",
       "       [1.20000000e+01, 4.31499657e-02, 4.28320797e-02],\n",
       "       [1.30000000e+01, 2.97326382e-02, 2.91334500e-02],\n",
       "       [1.40000000e+01, 2.02410114e-02, 1.99934488e-02],\n",
       "       [1.50000000e+01, 1.38316022e-02, 1.37157266e-02],\n",
       "       [1.60000000e+01, 9.63688504e-03, 9.57664850e-03],\n",
       "       [1.70000000e+01, 6.90010520e-03, 6.94807151e-03],\n",
       "       [1.80000000e+01, 5.26784403e-03, 5.31429928e-03],\n",
       "       [1.90000000e+01, 4.26599441e-03, 4.17607423e-03],\n",
       "       [2.00000000e+01, 3.57169188e-03, 3.51498845e-03],\n",
       "       [2.10000000e+01, 3.10002479e-03, 3.05795242e-03],\n",
       "       [2.20000000e+01, 2.73836893e-03, 2.71762026e-03],\n",
       "       [2.30000000e+01, 2.43969580e-03, 2.52611805e-03],\n",
       "       [2.40000000e+01, 2.25072827e-03, 2.35326770e-03],\n",
       "       [2.50000000e+01, 2.09229054e-03, 2.23402295e-03],\n",
       "       [2.60000000e+01, 1.92268777e-03, 2.10310013e-03],\n",
       "       [2.70000000e+01, 1.80022097e-03, 1.99828073e-03],\n",
       "       [2.80000000e+01, 1.65264751e-03, 1.90345918e-03],\n",
       "       [2.90000000e+01, 1.51284992e-03, 1.81795410e-03],\n",
       "       [3.00000000e+01, 1.40804901e-03, 1.74500069e-03],\n",
       "       [3.10000000e+01, 1.33684309e-03, 1.67483908e-03],\n",
       "       [3.20000000e+01, 1.30635152e-03, 1.53469379e-03],\n",
       "       [3.30000000e+01, 1.23951524e-03, 1.40551500e-03],\n",
       "       [3.40000000e+01, 1.12539774e-03, 1.36476744e-03],\n",
       "       [3.50000000e+01, 1.03344207e-03, 1.29855571e-03],\n",
       "       [3.60000000e+01, 9.54935991e-04, 1.22782573e-03],\n",
       "       [3.70000000e+01, 8.79038776e-04, 1.15330417e-03],\n",
       "       [3.80000000e+01, 8.35760794e-04, 1.10373489e-03],\n",
       "       [3.90000000e+01, 7.80815673e-04, 1.06299168e-03],\n",
       "       [4.00000000e+01, 7.61210714e-04, 1.07514366e-03],\n",
       "       [4.10000000e+01, 7.05507507e-04, 1.02782459e-03],\n",
       "       [4.20000000e+01, 7.04583109e-04, 1.03268910e-03],\n",
       "       [4.30000000e+01, 6.75302863e-04, 1.02506601e-03],\n",
       "       [4.40000000e+01, 6.61233181e-04, 1.02435614e-03],\n",
       "       [4.50000000e+01, 6.63742325e-04, 1.03617347e-03],\n",
       "       [4.60000000e+01, 6.37915496e-04, 1.00540417e-03],\n",
       "       [4.70000000e+01, 6.15425774e-04, 9.95365668e-04],\n",
       "       [4.80000000e+01, 6.07606276e-04, 9.92408964e-04],\n",
       "       [4.90000000e+01, 5.74597732e-04, 9.72240875e-04],\n",
       "       [5.00000000e+01, 5.20041117e-04, 9.06607224e-04],\n",
       "       [5.10000000e+01, 5.42085707e-04, 9.46085226e-04],\n",
       "       [5.20000000e+01, 5.18387925e-04, 9.18881923e-04],\n",
       "       [5.30000000e+01, 5.34117958e-04, 9.46980227e-04],\n",
       "       [5.40000000e+01, 5.29848875e-04, 9.51400931e-04],\n",
       "       [5.50000000e+01, 5.11483941e-04, 9.35633577e-04],\n",
       "       [5.60000000e+01, 5.03129293e-04, 9.21843734e-04],\n",
       "       [5.70000000e+01, 5.04448573e-04, 9.43674934e-04],\n",
       "       [5.80000000e+01, 4.69524196e-04, 9.04030928e-04],\n",
       "       [5.90000000e+01, 4.69822989e-04, 9.12851122e-04],\n",
       "       [6.00000000e+01, 4.32033126e-04, 8.59396380e-04],\n",
       "       [6.10000000e+01, 4.34216443e-04, 8.69682251e-04],\n",
       "       [6.20000000e+01, 4.49305721e-04, 9.06397933e-04],\n",
       "       [6.30000000e+01, 4.11466631e-04, 8.68919961e-04]])"
      ]
     },
     "execution_count": 982,
     "metadata": {},
     "output_type": "execute_result"
    }
   ],
   "source": [
    "results"
   ]
  },
  {
   "cell_type": "code",
   "execution_count": null,
   "metadata": {},
   "outputs": [],
   "source": []
  },
  {
   "cell_type": "code",
   "execution_count": null,
   "metadata": {},
   "outputs": [],
   "source": []
  },
  {
   "cell_type": "code",
   "execution_count": null,
   "metadata": {},
   "outputs": [],
   "source": []
  },
  {
   "cell_type": "code",
   "execution_count": null,
   "metadata": {},
   "outputs": [],
   "source": []
  },
  {
   "cell_type": "code",
   "execution_count": null,
   "metadata": {},
   "outputs": [],
   "source": []
  },
  {
   "cell_type": "code",
   "execution_count": 738,
   "metadata": {},
   "outputs": [],
   "source": [
    "# for the sin\n",
    "nodes = np.array([64,60,56,50,49,48,45,40,35,30,25,20,17,16,15,10,9])\n",
    "tr_error = np.array([0.00044,0.00047,0.00049,0.000557,0.00057,0.00063,0.00064,0.00072,0.00103,0.0014,0.0021,0.00357,0.00698,0.00964,0.0138,0.09097,0.12903])\n",
    "te_error = np.array([0.0009,0.00092,0.00092,0.00096,0.00097,0.00102,0.00101,0.00103,0.0013,0.00175,0.00223,0.00352,0.00687,0.00956,0.0137,0.09014,0.12953])"
   ]
  },
  {
   "cell_type": "code",
   "execution_count": 985,
   "metadata": {},
   "outputs": [
    {
     "data": {
      "image/png": "[encoded data removed]",
      "text/plain": [
       "<Figure size 432x288 with 1 Axes>"
      ]
     },
     "metadata": {
      "needs_background": "light"
     },
     "output_type": "display_data"
    }
   ],
   "source": [
    "plt.plot(results[:,0],np.log(results[:,1]), label='training error')\n",
    "plt.plot(results[:,0],np.log(results[:,2]), label='test error')\n",
    "plt.legend()\n",
    "plt.xlabel('Number of nodes')\n",
    "plt.ylabel('log(error)')\n",
    "#plt.savefig('Lab_2_data/3_1_sin_error.png')"
   ]
  },
  {
   "cell_type": "code",
   "execution_count": 828,
   "metadata": {},
   "outputs": [
    {
     "data": {
      "text/plain": [
       "array([0., 0., 0., 0., 0., 0., 0., 0., 0., 0., 0., 0., 0., 0., 0., 0., 0.,\n",
       "       0., 0., 0., 0., 0., 0., 0., 0., 0., 0., 0., 0., 0., 0., 0., 0., 0.,\n",
       "       0., 0., 0., 0., 0., 0., 0., 0., 0., 0., 0., 0., 0., 0., 0., 0., 0.,\n",
       "       0., 0., 0., 0., 0., 0., 0., 0., 0., 0., 0., 1.])"
      ]
     },
     "execution_count": 828,
     "metadata": {},
     "output_type": "execute_result"
    }
   ],
   "source": [
    "rbf(x[8])"
   ]
  },
  {
   "cell_type": "code",
   "execution_count": 827,
   "metadata": {},
   "outputs": [
    {
     "data": {
      "text/plain": [
       "1.3"
      ]
     },
     "execution_count": 827,
     "metadata": {},
     "output_type": "execute_result"
    }
   ],
   "source": [
    "x[8]"
   ]
  },
  {
   "cell_type": "code",
   "execution_count": 833,
   "metadata": {},
   "outputs": [
    {
     "data": {
      "text/plain": [
       "12"
      ]
     },
     "execution_count": 833,
     "metadata": {},
     "output_type": "execute_result"
    }
   ],
   "source": [
    "np.argmin(np.abs(x[8]-rbf.means))"
   ]
  },
  {
   "cell_type": "code",
   "execution_count": 1000,
   "metadata": {},
   "outputs": [],
   "source": [
    "rbf.means = np.random.rand(63)*2*np.pi"
   ]
  },
  {
   "cell_type": "code",
   "execution_count": 1004,
   "metadata": {},
   "outputs": [],
   "source": [
    "rbf.train_mu(x,0.02,1000)"
   ]
  },
  {
   "cell_type": "code",
   "execution_count": 1019,
   "metadata": {},
   "outputs": [
    {
     "data": {
      "text/plain": [
       "array([2.48649984e-19, 1.00000000e-01, 2.00000000e-01, 3.00000000e-01,\n",
       "       3.09171115e-01, 4.44442714e-01, 6.00000000e-01, 7.00000000e-01,\n",
       "       7.16339631e-01, 8.00000000e-01, 9.00000000e-01, 1.00000000e+00,\n",
       "       1.15066643e+00, 1.35522847e+00, 1.55197627e+00, 1.70000000e+00,\n",
       "       1.85549511e+00, 2.05051206e+00, 2.20000000e+00, 2.23240503e+00,\n",
       "       2.26975480e+00, 2.30000000e+00, 2.40000000e+00, 2.54605980e+00,\n",
       "       2.70000000e+00, 2.73466720e+00, 2.75900673e+00, 2.80000000e+00,\n",
       "       2.90000000e+00, 2.99317213e+00, 3.00000000e+00, 3.10000000e+00,\n",
       "       3.20000000e+00, 3.34402899e+00, 3.50000000e+00, 3.65009019e+00,\n",
       "       3.80000000e+00, 3.90000000e+00, 3.91317037e+00, 4.00000000e+00,\n",
       "       4.10000000e+00, 4.13860488e+00, 4.14899602e+00, 4.20000000e+00,\n",
       "       4.30000000e+00, 4.40000000e+00, 4.55745026e+00, 4.70000000e+00,\n",
       "       4.80000000e+00, 4.90000000e+00, 5.00000000e+00, 5.03461468e+00,\n",
       "       5.10000000e+00, 5.18077333e+00, 5.18508669e+00, 5.20000000e+00,\n",
       "       5.30000000e+00, 5.44944050e+00, 5.65841939e+00, 5.85554708e+00,\n",
       "       6.05357357e+00, 6.20000000e+00, 6.28313182e+00])"
      ]
     },
     "execution_count": 1019,
     "metadata": {},
     "output_type": "execute_result"
    }
   ],
   "source": [
    "np.sort(rbf.means)"
   ]
  },
  {
   "cell_type": "code",
   "execution_count": 1003,
   "metadata": {},
   "outputs": [
    {
     "data": {
      "text/plain": [
       "(array([7., 6., 4., 6., 9., 4., 9., 6., 8., 4.]),\n",
       " array([9.09784556e-11, 6.28313182e-01, 1.25662636e+00, 1.88493955e+00,\n",
       "        2.51325273e+00, 3.14156591e+00, 3.76987909e+00, 4.39819228e+00,\n",
       "        5.02650546e+00, 5.65481864e+00, 6.28313182e+00]),\n",
       " <a list of 10 Patch objects>)"
      ]
     },
     "execution_count": 1003,
     "metadata": {},
     "output_type": "execute_result"
    },
    {
     "data": {
      "image/png": "[encoded data removed]",
      "text/plain": [
       "<Figure size 432x288 with 1 Axes>"
      ]
     },
     "metadata": {
      "needs_background": "light"
     },
     "output_type": "display_data"
    }
   ],
   "source": [
    "plt.hist(np.sort(rbf.means))"
   ]
  },
  {
   "cell_type": "code",
   "execution_count": 1028,
   "metadata": {},
   "outputs": [
    {
     "data": {
      "text/plain": [
       "(array([ 5.,  5.,  6., 11.,  8.,  3.,  4.,  7., 10.,  4.]),\n",
       " array([1.64516583e-53, 6.14934307e-01, 1.22986861e+00, 1.84480292e+00,\n",
       "        2.45973723e+00, 3.07467153e+00, 3.68960584e+00, 4.30454015e+00,\n",
       "        4.91947446e+00, 5.53440876e+00, 6.14934307e+00]),\n",
       " <a list of 10 Patch objects>)"
      ]
     },
     "execution_count": 1028,
     "metadata": {},
     "output_type": "execute_result"
    },
    {
     "data": {
      "image/png": "[encoded data removed]",
      "text/plain": [
       "<Figure size 432x288 with 1 Axes>"
      ]
     },
     "metadata": {
      "needs_background": "light"
     },
     "output_type": "display_data"
    }
   ],
   "source": [
    "plt.hist(np.sort(rbf.means))"
   ]
  },
  {
   "cell_type": "code",
   "execution_count": 1036,
   "metadata": {},
   "outputs": [
    {
     "data": {
      "text/plain": [
       "1.0"
      ]
     },
     "execution_count": 1036,
     "metadata": {},
     "output_type": "execute_result"
    }
   ],
   "source": [
    "np.max(new_x)"
   ]
  },
  {
   "cell_type": "code",
   "execution_count": 1047,
   "metadata": {},
   "outputs": [
    {
     "data": {
      "text/plain": [
       "[<matplotlib.lines.Line2D at 0x7fc52579a3d0>]"
      ]
     },
     "execution_count": 1047,
     "metadata": {},
     "output_type": "execute_result"
    },
    {
     "data": {
      "image/png": "[encoded data removed]",
      "text/plain": [
       "<Figure size 432x288 with 1 Axes>"
      ]
     },
     "metadata": {
      "needs_background": "light"
     },
     "output_type": "display_data"
    }
   ],
   "source": [
    "x = np.sort(x)\n",
    "plt.plot(x,(np.sin(2*x)>0)*2-1)"
   ]
  },
  {
   "cell_type": "code",
   "execution_count": null,
   "metadata": {},
   "outputs": [],
   "source": []
  }
 ],
 "metadata": {
  "kernelspec": {
   "display_name": "Python 3.7.4 64-bit ('base': conda)",
   "language": "python",
   "name": "python37464bitbaseconda5f9c779bbc32492f894791687feb7013"
  },
  "language_info": {
   "codemirror_mode": {
    "name": "ipython",
    "version": 3
   },
   "file_extension": ".py",
   "mimetype": "text/x-python",
   "name": "python",
   "nbconvert_exporter": "python",
   "pygments_lexer": "ipython3",
   "version": "3.7.4"
  }
 },
 "nbformat": 4,
 "nbformat_minor": 2
}

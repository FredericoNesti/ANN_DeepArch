{
 "cells": [
  {
   "cell_type": "code",
   "execution_count": 2,
   "metadata": {},
   "outputs": [
    {
     "name": "stdout",
     "output_type": "stream",
     "text": [
      "The autoreload extension is already loaded. To reload it, use:\n",
      "  %reload_ext autoreload\n"
     ]
    }
   ],
   "source": [
    "# adding autoload so that we dont need to restart kernel to reload libraries every time\n",
    "%load_ext autoreload\n",
    "%autoreload 2"
   ]
  },
  {
   "cell_type": "code",
   "execution_count": 594,
   "metadata": {},
   "outputs": [],
   "source": [
    "from neural_network import *\n",
    "import numpy as np\n",
    "from matplotlib import pyplot as plt"
   ]
  },
  {
   "cell_type": "code",
   "execution_count": 619,
   "metadata": {},
   "outputs": [],
   "source": [
    "# creating the dataset\n",
    "x = np.arange(0,2*np.pi,0.1)\n",
    "x = np.random.permutation(x)\n",
    "y = np.sin(2*x)\n",
    "#y = (np.sin(2*x)>0)*2-1\n",
    "x_test = np.arange(0.05,2*np.pi,0.1)\n",
    "y_test = np.sin(2*x_test)"
   ]
  },
  {
   "cell_type": "code",
   "execution_count": 723,
   "metadata": {},
   "outputs": [],
   "source": [
    "#creating the transformation\n",
    "number_of_rbf_nodes = 9\n",
    "#means = np.linspace(0, 2*np.pi,number_of_rbf_nodes+2)[1:-1]\n",
    "means = np.linspace(0, 2*np.pi,number_of_rbf_nodes)\n",
    "#means = np.sort(np.random.rand(number_of_rbf_nodes)*np.max(x))\n",
    "#means = x\n",
    "sigmas = np.ones(number_of_rbf_nodes)*(1.0/(number_of_rbf_nodes*1.2))\n",
    "rbf = RbfTransformation(means,sigmas)"
   ]
  },
  {
   "cell_type": "code",
   "execution_count": 724,
   "metadata": {},
   "outputs": [],
   "source": [
    "# creating the network\n",
    "nn = NN(1) # the number of inputs\n",
    "nn.add_transformation(rbf) # adding the transformation we created\n",
    "nn.add_layer(1, function=Linear(), bias_weight=0) #adding a linear layer at the end"
   ]
  },
  {
   "cell_type": "code",
   "execution_count": 725,
   "metadata": {},
   "outputs": [
    {
     "data": {
      "text/plain": [
       "([], [])"
      ]
     },
     "execution_count": 725,
     "metadata": {},
     "output_type": "execute_result"
    }
   ],
   "source": [
    "# training the network\n",
    "nn.train_batch(x,y,63,3000,0.2,0)"
   ]
  },
  {
   "cell_type": "code",
   "execution_count": 726,
   "metadata": {},
   "outputs": [
    {
     "name": "stdout",
     "output_type": "stream",
     "text": [
      "0.12903227644391824\n",
      "0.12952508068302632\n"
     ]
    }
   ],
   "source": [
    "#prediction\n",
    "ans = []\n",
    "ab = 0\n",
    "for x_s, y_true in zip(x,y):\n",
    "    v = nn.feed_forward(x_s)[1][0]\n",
    "    ans.append(v)\n",
    "#    print(\"v\",v,y_true)\n",
    "    ab+=np.abs((v-y_true))\n",
    "ab = ab/len(x)\n",
    "print(ab)\n",
    "ans = np.array(ans)\n",
    "ab = 0\n",
    "for x_s, y_true in zip(x_test,y_test):\n",
    "    v = nn.feed_forward(x_s)[1][0]\n",
    "    ab+=np.abs((v-y_true))\n",
    "ab = ab/len(x_test)\n",
    "print(ab)\n",
    "ans = np.array(ans)"
   ]
  },
  {
   "cell_type": "code",
   "execution_count": 708,
   "metadata": {},
   "outputs": [
    {
     "data": {
      "text/plain": [
       "<matplotlib.legend.Legend at 0x7fc5275b2350>"
      ]
     },
     "execution_count": 708,
     "metadata": {},
     "output_type": "execute_result"
    },
    {
     "data": {
      "image/png": "[encoded data removed]",
      "text/plain": [
       "<Figure size 432x288 with 1 Axes>"
      ]
     },
     "metadata": {
      "needs_background": "light"
     },
     "output_type": "display_data"
    }
   ],
   "source": [
    "#ploting\n",
    "indexes = np.argsort(x)\n",
    "plt.plot(x[indexes],y[indexes], label=\"True\")\n",
    "plt.plot(x[indexes],ans[indexes], label=\"Prediction\")\n",
    "plt.legend()"
   ]
  },
  {
   "cell_type": "code",
   "execution_count": 733,
   "metadata": {},
   "outputs": [
    {
     "data": {
      "text/plain": [
       "'training_test_res = []\\nfor i in range(16,16):\\n    number_of_rbf_nodes = i\\n    means = np.linspace(0, 2*np.pi,number_of_rbf_nodes)\\n    sigmas = np.ones(number_of_rbf_nodes)\\n    rbf = RbfTransformation(means,sigmas)\\n    nn = NN(1) # the number of inputs\\n    nn.add_transformation(rbf) # adding the transformation we created\\n    nn.add_layer(1, function=Linear(), bias_weight=0) #adding a linear layer at the end\\n    training_test_res.append(nn.train_batch(x,y,63,5000,0.07,0.6,learning_curve=True,test_set=x_test,test_targets=y_test))\\n    print(i,training_test_res[-1][0][-1])'"
      ]
     },
     "execution_count": 733,
     "metadata": {},
     "output_type": "execute_result"
    }
   ],
   "source": [
    "\"\"\"training_test_res = []\n",
    "for i in range(16,16):\n",
    "    number_of_rbf_nodes = i\n",
    "    means = np.linspace(0, 2*np.pi,number_of_rbf_nodes)\n",
    "    sigmas = np.ones(number_of_rbf_nodes)\n",
    "    rbf = RbfTransformation(means,sigmas)\n",
    "    nn = NN(1) # the number of inputs\n",
    "    nn.add_transformation(rbf) # adding the transformation we created\n",
    "    nn.add_layer(1, function=Linear(), bias_weight=0) #adding a linear layer at the end\n",
    "    training_test_res.append(nn.train_batch(x,y,63,5000,0.07,0.6,learning_curve=True,test_set=x_test,test_targets=y_test))\n",
    "    print(i,training_test_res[-1][0][-1])\"\"\"\n",
    "    "
   ]
  },
  {
   "cell_type": "code",
   "execution_count": null,
   "metadata": {},
   "outputs": [],
   "source": []
  },
  {
   "cell_type": "code",
   "execution_count": null,
   "metadata": {},
   "outputs": [],
   "source": []
  },
  {
   "cell_type": "code",
   "execution_count": null,
   "metadata": {},
   "outputs": [],
   "source": []
  },
  {
   "cell_type": "code",
   "execution_count": null,
   "metadata": {},
   "outputs": [],
   "source": []
  },
  {
   "cell_type": "code",
   "execution_count": null,
   "metadata": {},
   "outputs": [],
   "source": []
  },
  {
   "cell_type": "code",
   "execution_count": null,
   "metadata": {},
   "outputs": [],
   "source": []
  },
  {
   "cell_type": "code",
   "execution_count": null,
   "metadata": {},
   "outputs": [],
   "source": []
  },
  {
   "cell_type": "code",
   "execution_count": null,
   "metadata": {},
   "outputs": [],
   "source": []
  },
  {
   "cell_type": "code",
   "execution_count": null,
   "metadata": {},
   "outputs": [],
   "source": []
  },
  {
   "cell_type": "code",
   "execution_count": null,
   "metadata": {},
   "outputs": [],
   "source": []
  },
  {
   "cell_type": "code",
   "execution_count": null,
   "metadata": {},
   "outputs": [],
   "source": []
  },
  {
   "cell_type": "code",
   "execution_count": null,
   "metadata": {},
   "outputs": [],
   "source": []
  },
  {
   "cell_type": "code",
   "execution_count": 727,
   "metadata": {},
   "outputs": [],
   "source": [
    "nodes = np.array([64,60,56,50,49,48,45,40,35,30,25,20,17,16,15,10,9])\n",
    "tr_error = np.array([0.00044,0.00047,0.00049,0.000557,0.00057,0.00063,0.00064,0.00072,0.00103,0.0014,0.0021,0.00357,0.00698,0.00964,0.0138,0.09097,0.12903])\n",
    "te_error = np.array([0.0009,0.00092,0.00092,0.00096,0.00097,0.00102,0.00101,0.00103,0.0013,0.00175,0.00223,0.00352,0.00687,0.00956,0.0137,0.09014,0.12953])\n"
   ]
  },
  {
   "cell_type": "code",
   "execution_count": 732,
   "metadata": {},
   "outputs": [
    {
     "data": {
      "text/plain": [
       "Text(0, 0.5, 'log(error)')"
      ]
     },
     "execution_count": 732,
     "metadata": {},
     "output_type": "execute_result"
    },
    {
     "data": {
      "image/png": "[encoded data removed]",
      "text/plain": [
       "<Figure size 432x288 with 1 Axes>"
      ]
     },
     "metadata": {
      "needs_background": "light"
     },
     "output_type": "display_data"
    }
   ],
   "source": [
    "plt.plot(nodes,np.log(tr_error), label='training error')\n",
    "plt.plot(nodes,np.log(te_error), label='test error')\n",
    "plt.legend()\n",
    "plt.xlabel('Number of nodes')\n",
    "plt.ylabel('log(error)')"
   ]
  },
  {
   "cell_type": "code",
   "execution_count": null,
   "metadata": {},
   "outputs": [],
   "source": []
  }
 ],
 "metadata": {
  "kernelspec": {
   "display_name": "Python 3.7.4 64-bit ('base': conda)",
   "language": "python",
   "name": "python37464bitbaseconda5f9c779bbc32492f894791687feb7013"
  },
  "language_info": {
   "codemirror_mode": {
    "name": "ipython",
    "version": 3
   },
   "file_extension": ".py",
   "mimetype": "text/x-python",
   "name": "python",
   "nbconvert_exporter": "python",
   "pygments_lexer": "ipython3",
   "version": "3.7.4"
  }
 },
 "nbformat": 4,
 "nbformat_minor": 2
}
